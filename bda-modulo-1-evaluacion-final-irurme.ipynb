{
 "cells": [
  {
   "cell_type": "code",
   "execution_count": 24,
   "id": "3eb1ffea",
   "metadata": {},
   "outputs": [],
   "source": [
    "class TiendaOnline:\n",
    "\n",
    "    def __init__(self):\n",
    "\n",
    "        # para almacenar productos en el inventario. Lista de diccionarios. Cada productos es un diccionario\n",
    "        self.inventario = []    # cada dicc = {nombre, precio, cantidad}\n",
    "\n",
    "\n",
    "        # para llevar el registro de clientes. Cada cliente es un diccionario\n",
    "        self.clientes = {}  # cada dicc = {nombre, mail, compras}\n",
    "\n",
    "        # para el registro de las ventas totales. \n",
    "        self.ventas_totales = 0.0  # es float\n",
    "\n",
    "# 1 Agregar producto:\n",
    "\n",
    "    def agregar_producto(self, nombre, precio, cantidad):\n",
    "\n",
    "            # recorremos el inventario\n",
    "            for producto in self.inventario:\n",
    "\n",
    "                # si ya existe, actualizamos la cantidad\n",
    "                if producto[\"nombre\"] == nombre:\n",
    "                    producto[\"cantidad\"] += cantidad\n",
    "                    return\n",
    "                \n",
    "            \n",
    "            # si no existe, creamos un nuevo producto para la lista\n",
    "            nuevo_producto = {\"nombre\": nombre, \"precio\": precio, \"cantidad\": cantidad}\n",
    "            self.inventario.append(nuevo_producto)\n",
    "\n",
    "    \n",
    "# 2 Ver inventario:\n",
    "\n",
    "    def ver_inventario(self):\n",
    "         \n",
    "         # recorremos el inventario \n",
    "         for producto in self.inventario:\n",
    "\n",
    "            # muestra los detalles del productos\n",
    "            print(f\"Nombre: {producto['nombre']}, Precio: {producto['precio']}, Cantidad: {producto['cantidad']}\")\n",
    "\n",
    "\n",
    "# 3 Buscar producto:\n",
    "\n",
    "    # busca un producto en el inventario por el nombre\n",
    "    def buscar_producto(self,nombre):\n",
    "         \n",
    "         # recorremos el inventario\n",
    "         for producto in self.inventario:\n",
    "             \n",
    "             if producto[\"nombre\"] == nombre:\n",
    "\n",
    "                # muestra los detalles del producto\n",
    "                print(f\"Nombre: {producto['nombre']}, Precio: {producto['precio']}, Cantidad: {producto['cantidad']}\")\n",
    "\n",
    "\n",
    "# 4 Actualizar stock:\n",
    "\n",
    "    def actualizar_stock(self, nombre, cantidad):\n",
    "\n",
    "        # recorremos el inventario\n",
    "        for producto in self.inventario:\n",
    "\n",
    "            # si el producto está en el inventario\n",
    "            if producto[\"nombre\"] == nombre:\n",
    "                # añadimos la cantidad indicada al stock existente\n",
    "                producto[\"cantidad\"] += cantidad\n",
    "                return\n",
    "\n",
    "        # si no está en el inventario\n",
    "        print(f\"Este productos no está en el inventario\")\n",
    "\n",
    "\n",
    "# 5 Eliminar producto:\n",
    "\n",
    "    def eliminar_producto(self, nombre):\n",
    "\n",
    "        # recorremos el inventario\n",
    "        for producto in self.inventario:\n",
    "\n",
    "            # si el producto está en el inventario\n",
    "            if producto[\"nombre\"] == nombre:\n",
    "                \n",
    "                # eliminar el diccionario de la lista\n",
    "                self.inventario.remove(producto)\n",
    "                return\n",
    "            \n",
    "        # si no está en el inventario\n",
    "        print(f\"Este productos no está en el inventario\")\n",
    "\n",
    "\n",
    "# 6 Calcular Valor Inventario:\n",
    "\n",
    "    def calcular_valor_inventario(self):\n",
    "        \n",
    "        # defino una variable donde indicar el valor total del inventario\n",
    "        valor_total_inventario = 0\n",
    "\n",
    "        # recorremos el inventario\n",
    "        for producto in self.inventario:\n",
    "            valor_producto = producto[\"precio\"] * producto [\"cantidad\"]\n",
    "            valor_total_inventario += valor_producto\n",
    "\n",
    "        return print(f\"El valor total del inventario es {valor_total_inventario}\")\n",
    "    \n",
    "\n",
    "# 7 Realizar compra:\n",
    "\n",
    "    def realizar_compra(self):\n",
    "\n",
    "        # creamos una varioable para el carrito donde añadiremos el nombre del producto y la cantidad de compra\n",
    "        carrito = {}\n",
    "\n",
    "        coste_compra = 0\n",
    "        # muestramostramos el inventario\n",
    "        self.ver_inventario()\n",
    "        print()\n",
    "\n",
    "        # solicitamos al cliente los productos que desea o si desea finalizar la compra\n",
    "        producto_elegido = input(\"Por favor, indique el nombre del producto que desea comprar o 'salir' si desea salir de la compra\").lower()\n",
    "\n",
    "        # el cliente puede ir agregando productos hasta que indique \"salir\"\n",
    "        while producto_elegido != \"salir\":\n",
    "\n",
    "            for producto in self.inventario:\n",
    "\n",
    "                if producto_elegido == producto[\"nombre\"]:\n",
    "                    # solicitamos la cantidad que desea adquirir de cada producto\n",
    "                    cantidad_elegida = int(input(\"Por favor, indique la cantidad de producto que desea comprar\"))\n",
    "                    \n",
    "                    if cantidad_elegida > producto[\"cantidad\"]:\n",
    "                        print(f\"No hay suficiente stock de {producto_elegido}. Solo quedan {producto['cantidad']} unidades.\")\n",
    "\n",
    "                    else:\n",
    "                        # actualizar el inventario\n",
    "                        producto[\"cantidad\"] -= cantidad_elegida\n",
    "\n",
    "                        # Actualizar el carrito de la compra\n",
    "                        if producto_elegido in carrito:\n",
    "                            carrito[producto_elegido] += cantidad_elegida\n",
    "                        else:\n",
    "                            carrito.update({producto_elegido:cantidad_elegida})\n",
    "\n",
    "                        print(f\"Has añadido: {producto_elegido}. Cantidad: {cantidad_elegida}\")\n",
    "\n",
    "            producto_elegido = input(\"¿Deseas añadir algo más al carrito?\")\n",
    "\n",
    "            if producto_elegido == \"salir\":\n",
    "                break                        \n",
    "\n",
    "        # recorremos el carrito\n",
    "        for producto_en_carrito in carrito:\n",
    "            # recorremos el inventario\n",
    "            for producto in self.inventario:\n",
    "                if producto_en_carrito == producto[\"nombre\"]:\n",
    "                    coste_compra += cantidad_elegida * producto[\"precio\"]\n",
    "\n",
    "        print()\n",
    "        print(f\"Compra finalizada. El coste total de su compra es {coste_compra}\")\n",
    "        return print(f\"La compra realizada ha sido: {carrito}\")\n",
    "\n",
    "   "
   ]
  },
  {
   "cell_type": "code",
   "execution_count": 25,
   "id": "c0ae722a",
   "metadata": {},
   "outputs": [
    {
     "name": "stdout",
     "output_type": "stream",
     "text": [
      "Producto: patin, Precio: 95, Cantidad: 50\n",
      "Producto: bota, Precio: 105, Cantidad: 60\n",
      "Producto: stick, Precio: 75, Cantidad: 240\n",
      "Producto: bola, Precio: 14, Cantidad: 190\n"
     ]
    }
   ],
   "source": [
    "# 1 Agregar producto\n",
    "\n",
    "tienda = TiendaOnline()\n",
    "\n",
    "tienda.agregar_producto(\"patin\", 95, 50)\n",
    "tienda.agregar_producto(\"bota\", 105, 60)\n",
    "tienda.agregar_producto(\"stick\", 75, 120)\n",
    "tienda.agregar_producto(\"bola\", 14, 190)\n",
    "tienda.agregar_producto(\"stick\", 20, 120)\n",
    "\n",
    "for producto in tienda.inventario:\n",
    "    print(f\"Producto: {producto['nombre']}, Precio: {producto['precio']}, Cantidad: {producto['cantidad']}\")"
   ]
  },
  {
   "cell_type": "code",
   "execution_count": 26,
   "id": "3cf0f054",
   "metadata": {},
   "outputs": [
    {
     "name": "stdout",
     "output_type": "stream",
     "text": [
      "Nombre: patin, Precio: 95, Cantidad: 50\n",
      "Nombre: bota, Precio: 105, Cantidad: 60\n",
      "Nombre: stick, Precio: 75, Cantidad: 240\n",
      "Nombre: bola, Precio: 14, Cantidad: 190\n"
     ]
    }
   ],
   "source": [
    "# 2 Solicitamos ver el inventario\n",
    "\n",
    "tienda.ver_inventario()"
   ]
  },
  {
   "cell_type": "code",
   "execution_count": 27,
   "id": "8a9519d2",
   "metadata": {},
   "outputs": [
    {
     "name": "stdout",
     "output_type": "stream",
     "text": [
      "Nombre: bola, Precio: 14, Cantidad: 190\n"
     ]
    }
   ],
   "source": [
    "# 3 Buscamos si disponemos el producto \"bola\"\n",
    "\n",
    "tienda.buscar_producto(\"bola\")"
   ]
  },
  {
   "cell_type": "code",
   "execution_count": 28,
   "id": "e9a0bbaf",
   "metadata": {},
   "outputs": [
    {
     "name": "stdout",
     "output_type": "stream",
     "text": [
      "Nombre: patin, Precio: 95, Cantidad: 75\n",
      "Nombre: bota, Precio: 105, Cantidad: 60\n",
      "Nombre: stick, Precio: 75, Cantidad: 240\n",
      "Nombre: bola, Precio: 14, Cantidad: 190\n"
     ]
    }
   ],
   "source": [
    "# 4 Actualizar stock\n",
    "\n",
    "tienda.actualizar_stock(\"patin\", 25)\n",
    "\n",
    "tienda.ver_inventario()"
   ]
  },
  {
   "cell_type": "code",
   "execution_count": 29,
   "id": "bd0088ae",
   "metadata": {},
   "outputs": [
    {
     "name": "stdout",
     "output_type": "stream",
     "text": [
      "Nombre: patin, Precio: 95, Cantidad: 75\n",
      "Nombre: stick, Precio: 75, Cantidad: 240\n",
      "Nombre: bola, Precio: 14, Cantidad: 190\n"
     ]
    }
   ],
   "source": [
    "# 5 Eliminar un producto\n",
    "\n",
    "tienda.eliminar_producto(\"bota\")\n",
    "\n",
    "tienda.ver_inventario()\n"
   ]
  },
  {
   "cell_type": "code",
   "execution_count": 30,
   "id": "2711e087",
   "metadata": {},
   "outputs": [
    {
     "name": "stdout",
     "output_type": "stream",
     "text": [
      "El valor total del inventario es 27785\n"
     ]
    }
   ],
   "source": [
    "# 6 Calcular valor inventario\n",
    "\n",
    "tienda.calcular_valor_inventario()"
   ]
  },
  {
   "cell_type": "code",
   "execution_count": 8,
   "id": "2e318832",
   "metadata": {},
   "outputs": [
    {
     "name": "stdout",
     "output_type": "stream",
     "text": [
      "Nombre: patin, Precio: 95, Cantidad: 75\n",
      "Nombre: stick, Precio: 75, Cantidad: 240\n",
      "Nombre: bola, Precio: 14, Cantidad: 190\n",
      "\n",
      "No hay suficiente stock de patin. Solo quedan 75 unidades.\n",
      "Has añadido: stick. Cantidad: 5\n",
      "Has añadido: stick. Cantidad: 5\n",
      "Has añadido: bola. Cantidad: 20\n",
      "\n",
      "Compra finalizada. El coste total de su compra es 1780\n",
      "La compra realizada ha sido: {'stick': 10, 'bola': 20}\n"
     ]
    }
   ],
   "source": [
    "# 7 Realizar compra\n",
    "\n",
    "tienda.realizar_compra()"
   ]
  }
 ],
 "metadata": {
  "kernelspec": {
   "display_name": "base",
   "language": "python",
   "name": "python3"
  },
  "language_info": {
   "codemirror_mode": {
    "name": "ipython",
    "version": 3
   },
   "file_extension": ".py",
   "mimetype": "text/x-python",
   "name": "python",
   "nbconvert_exporter": "python",
   "pygments_lexer": "ipython3",
   "version": "3.12.7"
  }
 },
 "nbformat": 4,
 "nbformat_minor": 5
}
